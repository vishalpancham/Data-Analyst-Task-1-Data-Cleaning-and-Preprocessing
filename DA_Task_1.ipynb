{
  "nbformat": 4,
  "nbformat_minor": 0,
  "metadata": {
    "colab": {
      "provenance": []
    },
    "kernelspec": {
      "name": "python3",
      "display_name": "Python 3"
    },
    "language_info": {
      "name": "python"
    }
  },
  "cells": [
    {
      "cell_type": "code",
      "execution_count": null,
      "metadata": {
        "id": "viGSL7Pnn_4j"
      },
      "outputs": [],
      "source": [
        "# 1 Customer Personality Analysis\n"
      ]
    },
    {
      "cell_type": "code",
      "source": [
        "#✅ Step 3.1: Dataset Load Karna & Column Check Karna\n",
        "\n",
        "import pandas as pd\n",
        "from google.colab import files\n",
        "\n",
        "# CSV file upload karo\n",
        "uploaded = files.upload()\n",
        "\n",
        "# File ka naam daalo jo aapne upload kiya\n",
        "df = pd.read_csv('marketing_campaign.csv', sep='\\t')  # Note: sep='\\t' because it's tab-separated\n",
        "\n",
        "# Pehle 5 rows dekho\n",
        "print(df.head())\n",
        "\n",
        "# Column names check karo\n",
        "print(df.columns)\n"
      ],
      "metadata": {
        "colab": {
          "base_uri": "https://localhost:8080/",
          "height": 735
        },
        "id": "5qDwJ709qw1M",
        "outputId": "bfb7483f-986b-4ff5-f7b1-6a693c0862e4"
      },
      "execution_count": 6,
      "outputs": [
        {
          "output_type": "display_data",
          "data": {
            "text/plain": [
              "<IPython.core.display.HTML object>"
            ],
            "text/html": [
              "\n",
              "     <input type=\"file\" id=\"files-103bd359-48b1-407f-9e99-9ccc7cf89c62\" name=\"files[]\" multiple disabled\n",
              "        style=\"border:none\" />\n",
              "     <output id=\"result-103bd359-48b1-407f-9e99-9ccc7cf89c62\">\n",
              "      Upload widget is only available when the cell has been executed in the\n",
              "      current browser session. Please rerun this cell to enable.\n",
              "      </output>\n",
              "      <script>// Copyright 2017 Google LLC\n",
              "//\n",
              "// Licensed under the Apache License, Version 2.0 (the \"License\");\n",
              "// you may not use this file except in compliance with the License.\n",
              "// You may obtain a copy of the License at\n",
              "//\n",
              "//      http://www.apache.org/licenses/LICENSE-2.0\n",
              "//\n",
              "// Unless required by applicable law or agreed to in writing, software\n",
              "// distributed under the License is distributed on an \"AS IS\" BASIS,\n",
              "// WITHOUT WARRANTIES OR CONDITIONS OF ANY KIND, either express or implied.\n",
              "// See the License for the specific language governing permissions and\n",
              "// limitations under the License.\n",
              "\n",
              "/**\n",
              " * @fileoverview Helpers for google.colab Python module.\n",
              " */\n",
              "(function(scope) {\n",
              "function span(text, styleAttributes = {}) {\n",
              "  const element = document.createElement('span');\n",
              "  element.textContent = text;\n",
              "  for (const key of Object.keys(styleAttributes)) {\n",
              "    element.style[key] = styleAttributes[key];\n",
              "  }\n",
              "  return element;\n",
              "}\n",
              "\n",
              "// Max number of bytes which will be uploaded at a time.\n",
              "const MAX_PAYLOAD_SIZE = 100 * 1024;\n",
              "\n",
              "function _uploadFiles(inputId, outputId) {\n",
              "  const steps = uploadFilesStep(inputId, outputId);\n",
              "  const outputElement = document.getElementById(outputId);\n",
              "  // Cache steps on the outputElement to make it available for the next call\n",
              "  // to uploadFilesContinue from Python.\n",
              "  outputElement.steps = steps;\n",
              "\n",
              "  return _uploadFilesContinue(outputId);\n",
              "}\n",
              "\n",
              "// This is roughly an async generator (not supported in the browser yet),\n",
              "// where there are multiple asynchronous steps and the Python side is going\n",
              "// to poll for completion of each step.\n",
              "// This uses a Promise to block the python side on completion of each step,\n",
              "// then passes the result of the previous step as the input to the next step.\n",
              "function _uploadFilesContinue(outputId) {\n",
              "  const outputElement = document.getElementById(outputId);\n",
              "  const steps = outputElement.steps;\n",
              "\n",
              "  const next = steps.next(outputElement.lastPromiseValue);\n",
              "  return Promise.resolve(next.value.promise).then((value) => {\n",
              "    // Cache the last promise value to make it available to the next\n",
              "    // step of the generator.\n",
              "    outputElement.lastPromiseValue = value;\n",
              "    return next.value.response;\n",
              "  });\n",
              "}\n",
              "\n",
              "/**\n",
              " * Generator function which is called between each async step of the upload\n",
              " * process.\n",
              " * @param {string} inputId Element ID of the input file picker element.\n",
              " * @param {string} outputId Element ID of the output display.\n",
              " * @return {!Iterable<!Object>} Iterable of next steps.\n",
              " */\n",
              "function* uploadFilesStep(inputId, outputId) {\n",
              "  const inputElement = document.getElementById(inputId);\n",
              "  inputElement.disabled = false;\n",
              "\n",
              "  const outputElement = document.getElementById(outputId);\n",
              "  outputElement.innerHTML = '';\n",
              "\n",
              "  const pickedPromise = new Promise((resolve) => {\n",
              "    inputElement.addEventListener('change', (e) => {\n",
              "      resolve(e.target.files);\n",
              "    });\n",
              "  });\n",
              "\n",
              "  const cancel = document.createElement('button');\n",
              "  inputElement.parentElement.appendChild(cancel);\n",
              "  cancel.textContent = 'Cancel upload';\n",
              "  const cancelPromise = new Promise((resolve) => {\n",
              "    cancel.onclick = () => {\n",
              "      resolve(null);\n",
              "    };\n",
              "  });\n",
              "\n",
              "  // Wait for the user to pick the files.\n",
              "  const files = yield {\n",
              "    promise: Promise.race([pickedPromise, cancelPromise]),\n",
              "    response: {\n",
              "      action: 'starting',\n",
              "    }\n",
              "  };\n",
              "\n",
              "  cancel.remove();\n",
              "\n",
              "  // Disable the input element since further picks are not allowed.\n",
              "  inputElement.disabled = true;\n",
              "\n",
              "  if (!files) {\n",
              "    return {\n",
              "      response: {\n",
              "        action: 'complete',\n",
              "      }\n",
              "    };\n",
              "  }\n",
              "\n",
              "  for (const file of files) {\n",
              "    const li = document.createElement('li');\n",
              "    li.append(span(file.name, {fontWeight: 'bold'}));\n",
              "    li.append(span(\n",
              "        `(${file.type || 'n/a'}) - ${file.size} bytes, ` +\n",
              "        `last modified: ${\n",
              "            file.lastModifiedDate ? file.lastModifiedDate.toLocaleDateString() :\n",
              "                                    'n/a'} - `));\n",
              "    const percent = span('0% done');\n",
              "    li.appendChild(percent);\n",
              "\n",
              "    outputElement.appendChild(li);\n",
              "\n",
              "    const fileDataPromise = new Promise((resolve) => {\n",
              "      const reader = new FileReader();\n",
              "      reader.onload = (e) => {\n",
              "        resolve(e.target.result);\n",
              "      };\n",
              "      reader.readAsArrayBuffer(file);\n",
              "    });\n",
              "    // Wait for the data to be ready.\n",
              "    let fileData = yield {\n",
              "      promise: fileDataPromise,\n",
              "      response: {\n",
              "        action: 'continue',\n",
              "      }\n",
              "    };\n",
              "\n",
              "    // Use a chunked sending to avoid message size limits. See b/62115660.\n",
              "    let position = 0;\n",
              "    do {\n",
              "      const length = Math.min(fileData.byteLength - position, MAX_PAYLOAD_SIZE);\n",
              "      const chunk = new Uint8Array(fileData, position, length);\n",
              "      position += length;\n",
              "\n",
              "      const base64 = btoa(String.fromCharCode.apply(null, chunk));\n",
              "      yield {\n",
              "        response: {\n",
              "          action: 'append',\n",
              "          file: file.name,\n",
              "          data: base64,\n",
              "        },\n",
              "      };\n",
              "\n",
              "      let percentDone = fileData.byteLength === 0 ?\n",
              "          100 :\n",
              "          Math.round((position / fileData.byteLength) * 100);\n",
              "      percent.textContent = `${percentDone}% done`;\n",
              "\n",
              "    } while (position < fileData.byteLength);\n",
              "  }\n",
              "\n",
              "  // All done.\n",
              "  yield {\n",
              "    response: {\n",
              "      action: 'complete',\n",
              "    }\n",
              "  };\n",
              "}\n",
              "\n",
              "scope.google = scope.google || {};\n",
              "scope.google.colab = scope.google.colab || {};\n",
              "scope.google.colab._files = {\n",
              "  _uploadFiles,\n",
              "  _uploadFilesContinue,\n",
              "};\n",
              "})(self);\n",
              "</script> "
            ]
          },
          "metadata": {}
        },
        {
          "output_type": "stream",
          "name": "stdout",
          "text": [
            "Saving marketing_campaign.csv to marketing_campaign (2).csv\n",
            "     ID  Year_Birth   Education Marital_Status   Income  Kidhome  Teenhome  \\\n",
            "0  5524        1957  Graduation         Single  58138.0        0         0   \n",
            "1  2174        1954  Graduation         Single  46344.0        1         1   \n",
            "2  4141        1965  Graduation       Together  71613.0        0         0   \n",
            "3  6182        1984  Graduation       Together  26646.0        1         0   \n",
            "4  5324        1981         PhD        Married  58293.0        1         0   \n",
            "\n",
            "  Dt_Customer  Recency  MntWines  ...  NumWebVisitsMonth  AcceptedCmp3  \\\n",
            "0  04-09-2012       58       635  ...                  7             0   \n",
            "1  08-03-2014       38        11  ...                  5             0   \n",
            "2  21-08-2013       26       426  ...                  4             0   \n",
            "3  10-02-2014       26        11  ...                  6             0   \n",
            "4  19-01-2014       94       173  ...                  5             0   \n",
            "\n",
            "   AcceptedCmp4  AcceptedCmp5  AcceptedCmp1  AcceptedCmp2  Complain  \\\n",
            "0             0             0             0             0         0   \n",
            "1             0             0             0             0         0   \n",
            "2             0             0             0             0         0   \n",
            "3             0             0             0             0         0   \n",
            "4             0             0             0             0         0   \n",
            "\n",
            "   Z_CostContact  Z_Revenue  Response  \n",
            "0              3         11         1  \n",
            "1              3         11         0  \n",
            "2              3         11         0  \n",
            "3              3         11         0  \n",
            "4              3         11         0  \n",
            "\n",
            "[5 rows x 29 columns]\n",
            "Index(['ID', 'Year_Birth', 'Education', 'Marital_Status', 'Income', 'Kidhome',\n",
            "       'Teenhome', 'Dt_Customer', 'Recency', 'MntWines', 'MntFruits',\n",
            "       'MntMeatProducts', 'MntFishProducts', 'MntSweetProducts',\n",
            "       'MntGoldProds', 'NumDealsPurchases', 'NumWebPurchases',\n",
            "       'NumCatalogPurchases', 'NumStorePurchases', 'NumWebVisitsMonth',\n",
            "       'AcceptedCmp3', 'AcceptedCmp4', 'AcceptedCmp5', 'AcceptedCmp1',\n",
            "       'AcceptedCmp2', 'Complain', 'Z_CostContact', 'Z_Revenue', 'Response'],\n",
            "      dtype='object')\n"
          ]
        }
      ]
    },
    {
      "cell_type": "code",
      "source": [
        "#✅ Step 3.2: Missing Values Handle Karna\n",
        "# Har column me missing values count karo\n",
        "print(df.isnull().sum())\n"
      ],
      "metadata": {
        "colab": {
          "base_uri": "https://localhost:8080/"
        },
        "id": "Ah4xX5_Irurj",
        "outputId": "e0778b04-9057-4476-db16-3e272d8f105e"
      },
      "execution_count": 7,
      "outputs": [
        {
          "output_type": "stream",
          "name": "stdout",
          "text": [
            "ID                      0\n",
            "Year_Birth              0\n",
            "Education               0\n",
            "Marital_Status          0\n",
            "Income                 24\n",
            "Kidhome                 0\n",
            "Teenhome                0\n",
            "Dt_Customer             0\n",
            "Recency                 0\n",
            "MntWines                0\n",
            "MntFruits               0\n",
            "MntMeatProducts         0\n",
            "MntFishProducts         0\n",
            "MntSweetProducts        0\n",
            "MntGoldProds            0\n",
            "NumDealsPurchases       0\n",
            "NumWebPurchases         0\n",
            "NumCatalogPurchases     0\n",
            "NumStorePurchases       0\n",
            "NumWebVisitsMonth       0\n",
            "AcceptedCmp3            0\n",
            "AcceptedCmp4            0\n",
            "AcceptedCmp5            0\n",
            "AcceptedCmp1            0\n",
            "AcceptedCmp2            0\n",
            "Complain                0\n",
            "Z_CostContact           0\n",
            "Z_Revenue               0\n",
            "Response                0\n",
            "dtype: int64\n"
          ]
        }
      ]
    },
    {
      "cell_type": "code",
      "source": [
        "#Missing Values Ka Treatment\n"
      ],
      "metadata": {
        "id": "U_EoMTm6sEhs"
      },
      "execution_count": null,
      "outputs": []
    },
    {
      "cell_type": "code",
      "source": [
        "#➤ Option A: Remove rows with missing values\n",
        "df = df.dropna()\n"
      ],
      "metadata": {
        "id": "drtK6juKsUfl"
      },
      "execution_count": 8,
      "outputs": []
    },
    {
      "cell_type": "code",
      "source": [
        "#➤ Option B: Fill missing values\n",
        "if 'Income' in df.columns:\n",
        "    df['Income'] = df['Income'].fillna(df['Income'].mean())\n"
      ],
      "metadata": {
        "id": "BwX9AOxUsabS"
      },
      "execution_count": 9,
      "outputs": []
    },
    {
      "cell_type": "code",
      "source": [
        "print(df.isnull().sum())\n"
      ],
      "metadata": {
        "colab": {
          "base_uri": "https://localhost:8080/"
        },
        "id": "Cf61NnoZsgoz",
        "outputId": "9670da5b-2850-442b-eb9a-b85cb2f0989d"
      },
      "execution_count": 10,
      "outputs": [
        {
          "output_type": "stream",
          "name": "stdout",
          "text": [
            "ID                     0\n",
            "Year_Birth             0\n",
            "Education              0\n",
            "Marital_Status         0\n",
            "Income                 0\n",
            "Kidhome                0\n",
            "Teenhome               0\n",
            "Dt_Customer            0\n",
            "Recency                0\n",
            "MntWines               0\n",
            "MntFruits              0\n",
            "MntMeatProducts        0\n",
            "MntFishProducts        0\n",
            "MntSweetProducts       0\n",
            "MntGoldProds           0\n",
            "NumDealsPurchases      0\n",
            "NumWebPurchases        0\n",
            "NumCatalogPurchases    0\n",
            "NumStorePurchases      0\n",
            "NumWebVisitsMonth      0\n",
            "AcceptedCmp3           0\n",
            "AcceptedCmp4           0\n",
            "AcceptedCmp5           0\n",
            "AcceptedCmp1           0\n",
            "AcceptedCmp2           0\n",
            "Complain               0\n",
            "Z_CostContact          0\n",
            "Z_Revenue              0\n",
            "Response               0\n",
            "dtype: int64\n"
          ]
        }
      ]
    },
    {
      "cell_type": "code",
      "source": [
        "#✅ Step 3.3: Duplicate Rows Ko Check Aur Remove Karna\n"
      ],
      "metadata": {
        "id": "77Gjpt_Wso2V"
      },
      "execution_count": null,
      "outputs": []
    },
    {
      "cell_type": "code",
      "source": [
        "#🔎 Step 1: Check for Duplicate Rows\n",
        "# Duplicate rows kitne hain\n",
        "duplicate_count = df.duplicated().sum()\n",
        "print(f\"Duplicate rows found: {duplicate_count}\")\n"
      ],
      "metadata": {
        "colab": {
          "base_uri": "https://localhost:8080/"
        },
        "id": "Ezgu-oYKsqbf",
        "outputId": "d0fe1c67-e7b6-4307-81bc-f2c1f0611d8c"
      },
      "execution_count": 11,
      "outputs": [
        {
          "output_type": "stream",
          "name": "stdout",
          "text": [
            "Duplicate rows found: 0\n"
          ]
        }
      ]
    },
    {
      "cell_type": "code",
      "source": [
        "#🧹 Step 2: Remove Duplicate Rows\n",
        "# Duplicate rows hatao\n",
        "df = df.drop_duplicates()\n"
      ],
      "metadata": {
        "id": "f66cQX_jsxzD"
      },
      "execution_count": 12,
      "outputs": []
    },
    {
      "cell_type": "code",
      "source": [
        "#🔁 Optional: Re-check after removing\n",
        "print(f\"Duplicate rows after cleaning: {df.duplicated().sum()}\")\n"
      ],
      "metadata": {
        "colab": {
          "base_uri": "https://localhost:8080/"
        },
        "id": "C4-13GHAs3pW",
        "outputId": "84b56e12-4624-42ed-b83f-7f2d66a45277"
      },
      "execution_count": 13,
      "outputs": [
        {
          "output_type": "stream",
          "name": "stdout",
          "text": [
            "Duplicate rows after cleaning: 0\n"
          ]
        }
      ]
    },
    {
      "cell_type": "code",
      "source": [
        "#✅ Step 3.4: Column Names Cleaning\n",
        "# Column names ko clean karo: lowercase + underscores + strip\n",
        "df.columns = df.columns.str.strip().str.lower().str.replace(\" \", \"_\")\n"
      ],
      "metadata": {
        "id": "Ibqbuz-ms-OF"
      },
      "execution_count": 14,
      "outputs": []
    },
    {
      "cell_type": "code",
      "source": [
        "print(df.columns)\n"
      ],
      "metadata": {
        "colab": {
          "base_uri": "https://localhost:8080/"
        },
        "id": "EbNwJhuLtPI5",
        "outputId": "30526fff-7035-4a8a-bc80-de944c90a849"
      },
      "execution_count": 15,
      "outputs": [
        {
          "output_type": "stream",
          "name": "stdout",
          "text": [
            "Index(['id', 'year_birth', 'education', 'marital_status', 'income', 'kidhome',\n",
            "       'teenhome', 'dt_customer', 'recency', 'mntwines', 'mntfruits',\n",
            "       'mntmeatproducts', 'mntfishproducts', 'mntsweetproducts',\n",
            "       'mntgoldprods', 'numdealspurchases', 'numwebpurchases',\n",
            "       'numcatalogpurchases', 'numstorepurchases', 'numwebvisitsmonth',\n",
            "       'acceptedcmp3', 'acceptedcmp4', 'acceptedcmp5', 'acceptedcmp1',\n",
            "       'acceptedcmp2', 'complain', 'z_costcontact', 'z_revenue', 'response'],\n",
            "      dtype='object')\n"
          ]
        }
      ]
    },
    {
      "cell_type": "code",
      "source": [
        "#✅ Step 3.5: Date Column Ko Fix Karna (Datetime Format)\n"
      ],
      "metadata": {
        "id": "CIr1K05ItSIw"
      },
      "execution_count": null,
      "outputs": []
    },
    {
      "cell_type": "code",
      "source": [
        "#🛠 Step 1: Convert Date Format\n",
        "# 'dt_customer' ko datetime format me convert karo\n",
        "df['dt_customer'] = pd.to_datetime(df['dt_customer'], errors='coerce')\n"
      ],
      "metadata": {
        "id": "cEi5u_v4taSr"
      },
      "execution_count": 16,
      "outputs": []
    },
    {
      "cell_type": "code",
      "source": [
        "#🔍 Step 2: Check Conversion Successful Hai Ya Nahi\n",
        "print(df['dt_customer'].dtypes)\n",
        "print(df['dt_customer'].head())\n"
      ],
      "metadata": {
        "colab": {
          "base_uri": "https://localhost:8080/"
        },
        "id": "WPFUnAaStfYy",
        "outputId": "42fdb656-ba52-4c50-950f-38ae5ab0492d"
      },
      "execution_count": 17,
      "outputs": [
        {
          "output_type": "stream",
          "name": "stdout",
          "text": [
            "datetime64[ns]\n",
            "0   2012-04-09\n",
            "1   2014-08-03\n",
            "2          NaT\n",
            "3   2014-10-02\n",
            "4          NaT\n",
            "Name: dt_customer, dtype: datetime64[ns]\n"
          ]
        }
      ]
    },
    {
      "cell_type": "code",
      "source": [
        "#✅ Step 3.6: Data Types Fixing"
      ],
      "metadata": {
        "id": "RGheT9s1tmCi"
      },
      "execution_count": null,
      "outputs": []
    },
    {
      "cell_type": "code",
      "source": [
        "#🔍 Step 1: Dekho Abhi Ke Data Types\n",
        "print(df.dtypes)\n"
      ],
      "metadata": {
        "colab": {
          "base_uri": "https://localhost:8080/"
        },
        "id": "xSj0nu6ItwJo",
        "outputId": "ab64b31d-e55f-4a39-dd33-2ea1b66efd42"
      },
      "execution_count": 18,
      "outputs": [
        {
          "output_type": "stream",
          "name": "stdout",
          "text": [
            "id                              int64\n",
            "year_birth                      int64\n",
            "education                      object\n",
            "marital_status                 object\n",
            "income                        float64\n",
            "kidhome                         int64\n",
            "teenhome                        int64\n",
            "dt_customer            datetime64[ns]\n",
            "recency                         int64\n",
            "mntwines                        int64\n",
            "mntfruits                       int64\n",
            "mntmeatproducts                 int64\n",
            "mntfishproducts                 int64\n",
            "mntsweetproducts                int64\n",
            "mntgoldprods                    int64\n",
            "numdealspurchases               int64\n",
            "numwebpurchases                 int64\n",
            "numcatalogpurchases             int64\n",
            "numstorepurchases               int64\n",
            "numwebvisitsmonth               int64\n",
            "acceptedcmp3                    int64\n",
            "acceptedcmp4                    int64\n",
            "acceptedcmp5                    int64\n",
            "acceptedcmp1                    int64\n",
            "acceptedcmp2                    int64\n",
            "complain                        int64\n",
            "z_costcontact                   int64\n",
            "z_revenue                       int64\n",
            "response                        int64\n",
            "dtype: object\n"
          ]
        }
      ]
    },
    {
      "cell_type": "code",
      "source": [
        "#🛠 Step 2: Data Type Fix Karna\n",
        "# year_birth should be integer\n",
        "df['year_birth'] = df['year_birth'].astype(int)\n",
        "\n",
        "# income should be float\n",
        "df['income'] = df['income'].astype(float)\n",
        "\n",
        "# education and marital_status should be category type\n",
        "df['education'] = df['education'].astype('category')\n",
        "df['marital_status'] = df['marital_status'].astype('category')\n",
        "\n",
        "# complain and response should be boolean (optional)\n",
        "df['complain'] = df['complain'].astype(bool)\n",
        "df['response'] = df['response'].astype(bool)\n"
      ],
      "metadata": {
        "id": "5-Z4KOkSt2x3"
      },
      "execution_count": 20,
      "outputs": []
    },
    {
      "cell_type": "code",
      "source": [
        "#✅ Verify Final Data Types:\n",
        "print(df.dtypes)\n"
      ],
      "metadata": {
        "colab": {
          "base_uri": "https://localhost:8080/"
        },
        "id": "WXYGKGRjt-ry",
        "outputId": "a0401e7f-ca0a-44be-c748-11894785f1bb"
      },
      "execution_count": 21,
      "outputs": [
        {
          "output_type": "stream",
          "name": "stdout",
          "text": [
            "id                              int64\n",
            "year_birth                      int64\n",
            "education                    category\n",
            "marital_status               category\n",
            "income                        float64\n",
            "kidhome                         int64\n",
            "teenhome                        int64\n",
            "dt_customer            datetime64[ns]\n",
            "recency                         int64\n",
            "mntwines                        int64\n",
            "mntfruits                       int64\n",
            "mntmeatproducts                 int64\n",
            "mntfishproducts                 int64\n",
            "mntsweetproducts                int64\n",
            "mntgoldprods                    int64\n",
            "numdealspurchases               int64\n",
            "numwebpurchases                 int64\n",
            "numcatalogpurchases             int64\n",
            "numstorepurchases               int64\n",
            "numwebvisitsmonth               int64\n",
            "acceptedcmp3                    int64\n",
            "acceptedcmp4                    int64\n",
            "acceptedcmp5                    int64\n",
            "acceptedcmp1                    int64\n",
            "acceptedcmp2                    int64\n",
            "complain                         bool\n",
            "z_costcontact                   int64\n",
            "z_revenue                       int64\n",
            "response                         bool\n",
            "dtype: object\n"
          ]
        }
      ]
    },
    {
      "cell_type": "code",
      "source": [
        "#✅ Step 4: Save and Download Cleaned Dataset\n",
        "#Now that your data is fully cleaned, you need to:\n",
        "\n",
        "#Save the cleaned data to a CSV file\n",
        "\n",
        "#Download that file from Colab to your computer\n",
        "\n"
      ],
      "metadata": {
        "id": "ZUvV1Sa7uGCe"
      },
      "execution_count": null,
      "outputs": []
    },
    {
      "cell_type": "code",
      "source": [
        "#📝 Step 1: Save as CSV in Colab\n",
        "df.to_csv('cleaned_marketing_campaign.csv', index=False)\n"
      ],
      "metadata": {
        "id": "mS-JJEBYuZ1p"
      },
      "execution_count": 22,
      "outputs": []
    },
    {
      "cell_type": "code",
      "source": [
        "#⬇️ Step 2: Download the File\n",
        "from google.colab import files\n",
        "files.download('cleaned_marketing_campaign.csv')\n"
      ],
      "metadata": {
        "colab": {
          "base_uri": "https://localhost:8080/",
          "height": 17
        },
        "id": "Tu_tytYgufW-",
        "outputId": "d9f468e2-4232-4601-be49-54645436d66d"
      },
      "execution_count": 23,
      "outputs": [
        {
          "output_type": "display_data",
          "data": {
            "text/plain": [
              "<IPython.core.display.Javascript object>"
            ],
            "application/javascript": [
              "\n",
              "    async function download(id, filename, size) {\n",
              "      if (!google.colab.kernel.accessAllowed) {\n",
              "        return;\n",
              "      }\n",
              "      const div = document.createElement('div');\n",
              "      const label = document.createElement('label');\n",
              "      label.textContent = `Downloading \"${filename}\": `;\n",
              "      div.appendChild(label);\n",
              "      const progress = document.createElement('progress');\n",
              "      progress.max = size;\n",
              "      div.appendChild(progress);\n",
              "      document.body.appendChild(div);\n",
              "\n",
              "      const buffers = [];\n",
              "      let downloaded = 0;\n",
              "\n",
              "      const channel = await google.colab.kernel.comms.open(id);\n",
              "      // Send a message to notify the kernel that we're ready.\n",
              "      channel.send({})\n",
              "\n",
              "      for await (const message of channel.messages) {\n",
              "        // Send a message to notify the kernel that we're ready.\n",
              "        channel.send({})\n",
              "        if (message.buffers) {\n",
              "          for (const buffer of message.buffers) {\n",
              "            buffers.push(buffer);\n",
              "            downloaded += buffer.byteLength;\n",
              "            progress.value = downloaded;\n",
              "          }\n",
              "        }\n",
              "      }\n",
              "      const blob = new Blob(buffers, {type: 'application/binary'});\n",
              "      const a = document.createElement('a');\n",
              "      a.href = window.URL.createObjectURL(blob);\n",
              "      a.download = filename;\n",
              "      div.appendChild(a);\n",
              "      a.click();\n",
              "      div.remove();\n",
              "    }\n",
              "  "
            ]
          },
          "metadata": {}
        },
        {
          "output_type": "display_data",
          "data": {
            "text/plain": [
              "<IPython.core.display.Javascript object>"
            ],
            "application/javascript": [
              "download(\"download_e927279a-38f4-4e9e-ae35-a8adbac7866b\", \"cleaned_marketing_campaign.csv\", 224451)"
            ]
          },
          "metadata": {}
        }
      ]
    }
  ]
}